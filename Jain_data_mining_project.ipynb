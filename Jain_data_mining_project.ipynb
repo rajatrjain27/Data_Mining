{
 "cells": [
  {
   "cell_type": "markdown",
   "metadata": {},
   "source": [
    "### Name :- Rajat Jain\n",
    "### UTA ID :- 1001753645\n"
   ]
  },
  {
   "cell_type": "code",
   "execution_count": 1,
   "metadata": {},
   "outputs": [],
   "source": [
    "# cleaning texts \n",
    "import pandas as pd \n",
    "import re \n",
    "import nltk \n",
    "from nltk.corpus import stopwords \n",
    "from nltk.stem.porter import PorterStemmer \n",
    "from sklearn.feature_extraction.text import CountVectorizer \n",
    "\n",
    "# dataset = [[\"I liked the movie\", \"positive\"], \n",
    "# \t\t[\"It’s a good movie. Nice story\", \"positive\"], \n",
    "# \t\t[\"Hero’s acting is bad but heroine looks good.\\ \n",
    "# \t\t\tOverall nice movie\", \"positive\"], \n",
    "# \t\t\t[\"Nice songs. But sadly boring ending.\", \"negative\"], \n",
    "# \t\t\t[\"sad movie, boring movie\", \"negative\"]] \n",
    "\t\t\t\n",
    "# dataset = pd.DataFrame(dataset) \n",
    "# dataset.columns = [\"Text\", \"Reviews\"] \n"
   ]
  },
  {
   "cell_type": "markdown",
   "metadata": {},
   "source": [
    "### Data cleaning and Splitting.\n",
    "### I have adjusted the rating values by rounding up to the nearest integer"
   ]
  },
  {
   "cell_type": "code",
   "execution_count": 2,
   "metadata": {},
   "outputs": [],
   "source": [
    "df = pd.read_csv('bgg-15m-reviews.csv')\n",
    "df = df[df['comment'].notna()]\n",
    "df['rating'] = df['rating'].round(0)\n",
    "df['rating'] = df['rating'].astype(int)\n",
    "df = df[['comment','rating']]"
   ]
  },
  {
   "cell_type": "code",
   "execution_count": 3,
   "metadata": {},
   "outputs": [
    {
     "data": {
      "text/html": [
       "<div>\n",
       "<style scoped>\n",
       "    .dataframe tbody tr th:only-of-type {\n",
       "        vertical-align: middle;\n",
       "    }\n",
       "\n",
       "    .dataframe tbody tr th {\n",
       "        vertical-align: top;\n",
       "    }\n",
       "\n",
       "    .dataframe thead th {\n",
       "        text-align: right;\n",
       "    }\n",
       "</style>\n",
       "<table border=\"1\" class=\"dataframe\">\n",
       "  <thead>\n",
       "    <tr style=\"text-align: right;\">\n",
       "      <th></th>\n",
       "      <th>comment</th>\n",
       "      <th>rating</th>\n",
       "    </tr>\n",
       "  </thead>\n",
       "  <tbody>\n",
       "    <tr>\n",
       "      <th>1</th>\n",
       "      <td>Hands down my favorite new game of BGG CON 200...</td>\n",
       "      <td>10</td>\n",
       "    </tr>\n",
       "    <tr>\n",
       "      <th>2</th>\n",
       "      <td>I tend to either love or easily tire of co-op ...</td>\n",
       "      <td>10</td>\n",
       "    </tr>\n",
       "    <tr>\n",
       "      <th>4</th>\n",
       "      <td>This is an amazing co-op game.  I play mostly ...</td>\n",
       "      <td>10</td>\n",
       "    </tr>\n",
       "    <tr>\n",
       "      <th>5</th>\n",
       "      <td>Hey! I can finally rate this game I've been pl...</td>\n",
       "      <td>10</td>\n",
       "    </tr>\n",
       "    <tr>\n",
       "      <th>8</th>\n",
       "      <td>Love it- great fun with my son. 2 plays so far...</td>\n",
       "      <td>10</td>\n",
       "    </tr>\n",
       "    <tr>\n",
       "      <th>...</th>\n",
       "      <td>...</td>\n",
       "      <td>...</td>\n",
       "    </tr>\n",
       "    <tr>\n",
       "      <th>15823242</th>\n",
       "      <td>KS Collector's Bundle with a friend of mine</td>\n",
       "      <td>10</td>\n",
       "    </tr>\n",
       "    <tr>\n",
       "      <th>15823247</th>\n",
       "      <td>Belekokio Gerumo...</td>\n",
       "      <td>10</td>\n",
       "    </tr>\n",
       "    <tr>\n",
       "      <th>15823253</th>\n",
       "      <td>Excelente!! lo mejor que probé.</td>\n",
       "      <td>10</td>\n",
       "    </tr>\n",
       "    <tr>\n",
       "      <th>15823264</th>\n",
       "      <td>Turn based preview looks very promising. The g...</td>\n",
       "      <td>8</td>\n",
       "    </tr>\n",
       "    <tr>\n",
       "      <th>15823265</th>\n",
       "      <td>KS</td>\n",
       "      <td>8</td>\n",
       "    </tr>\n",
       "  </tbody>\n",
       "</table>\n",
       "<p>2995023 rows × 2 columns</p>\n",
       "</div>"
      ],
      "text/plain": [
       "                                                    comment  rating\n",
       "1         Hands down my favorite new game of BGG CON 200...      10\n",
       "2         I tend to either love or easily tire of co-op ...      10\n",
       "4         This is an amazing co-op game.  I play mostly ...      10\n",
       "5         Hey! I can finally rate this game I've been pl...      10\n",
       "8         Love it- great fun with my son. 2 plays so far...      10\n",
       "...                                                     ...     ...\n",
       "15823242        KS Collector's Bundle with a friend of mine      10\n",
       "15823247                                Belekokio Gerumo...      10\n",
       "15823253                    Excelente!! lo mejor que probé.      10\n",
       "15823264  Turn based preview looks very promising. The g...       8\n",
       "15823265                                                 KS       8\n",
       "\n",
       "[2995023 rows x 2 columns]"
      ]
     },
     "execution_count": 3,
     "metadata": {},
     "output_type": "execute_result"
    }
   ],
   "source": [
    "df"
   ]
  },
  {
   "cell_type": "code",
   "execution_count": 4,
   "metadata": {},
   "outputs": [],
   "source": [
    "from sklearn.model_selection import StratifiedShuffleSplit\n",
    "sss = StratifiedShuffleSplit(n_splits=11, test_size=0.99, random_state=0)\n",
    "sss.get_n_splits(df['comment'], df['rating'])\n",
    "for train_index, test_index in sss.split(df['comment'], df['rating']):\n",
    "    train_set = df.iloc[train_index]\n",
    "    test_set = df.iloc[test_index]"
   ]
  },
  {
   "cell_type": "code",
   "execution_count": 5,
   "metadata": {},
   "outputs": [
    {
     "data": {
      "text/html": [
       "<div>\n",
       "<style scoped>\n",
       "    .dataframe tbody tr th:only-of-type {\n",
       "        vertical-align: middle;\n",
       "    }\n",
       "\n",
       "    .dataframe tbody tr th {\n",
       "        vertical-align: top;\n",
       "    }\n",
       "\n",
       "    .dataframe thead th {\n",
       "        text-align: right;\n",
       "    }\n",
       "</style>\n",
       "<table border=\"1\" class=\"dataframe\">\n",
       "  <thead>\n",
       "    <tr style=\"text-align: right;\">\n",
       "      <th></th>\n",
       "      <th>comment</th>\n",
       "      <th>rating</th>\n",
       "    </tr>\n",
       "  </thead>\n",
       "  <tbody>\n",
       "    <tr>\n",
       "      <th>1740396</th>\n",
       "      <td>Archived</td>\n",
       "      <td>6</td>\n",
       "    </tr>\n",
       "    <tr>\n",
       "      <th>6636962</th>\n",
       "      <td>Un must have dans le genre.</td>\n",
       "      <td>9</td>\n",
       "    </tr>\n",
       "    <tr>\n",
       "      <th>1159113</th>\n",
       "      <td>Excellent game, very thematic.  Luck of the dr...</td>\n",
       "      <td>8</td>\n",
       "    </tr>\n",
       "    <tr>\n",
       "      <th>4726306</th>\n",
       "      <td>Great game for new gamers! Check out our doubl...</td>\n",
       "      <td>7</td>\n",
       "    </tr>\n",
       "    <tr>\n",
       "      <th>9668014</th>\n",
       "      <td>2007</td>\n",
       "      <td>8</td>\n",
       "    </tr>\n",
       "    <tr>\n",
       "      <th>...</th>\n",
       "      <td>...</td>\n",
       "      <td>...</td>\n",
       "    </tr>\n",
       "    <tr>\n",
       "      <th>4120186</th>\n",
       "      <td>1–4  Players  60–150  Min</td>\n",
       "      <td>9</td>\n",
       "    </tr>\n",
       "    <tr>\n",
       "      <th>10254983</th>\n",
       "      <td>I'm absolutely in love with this game.  I've p...</td>\n",
       "      <td>9</td>\n",
       "    </tr>\n",
       "    <tr>\n",
       "      <th>4941591</th>\n",
       "      <td>Ben</td>\n",
       "      <td>7</td>\n",
       "    </tr>\n",
       "    <tr>\n",
       "      <th>7558943</th>\n",
       "      <td>Un astratto molto divertente ed \"educativo\". C...</td>\n",
       "      <td>7</td>\n",
       "    </tr>\n",
       "    <tr>\n",
       "      <th>2021592</th>\n",
       "      <td>A taktikai játékok királya, nem kérdés.</td>\n",
       "      <td>6</td>\n",
       "    </tr>\n",
       "  </tbody>\n",
       "</table>\n",
       "<p>29950 rows × 2 columns</p>\n",
       "</div>"
      ],
      "text/plain": [
       "                                                    comment  rating\n",
       "1740396                                            Archived       6\n",
       "6636962                         Un must have dans le genre.       9\n",
       "1159113   Excellent game, very thematic.  Luck of the dr...       8\n",
       "4726306   Great game for new gamers! Check out our doubl...       7\n",
       "9668014                                                2007       8\n",
       "...                                                     ...     ...\n",
       "4120186                           1–4  Players  60–150  Min       9\n",
       "10254983  I'm absolutely in love with this game.  I've p...       9\n",
       "4941591                                                 Ben       7\n",
       "7558943   Un astratto molto divertente ed \"educativo\". C...       7\n",
       "2021592             A taktikai játékok királya, nem kérdés.       6\n",
       "\n",
       "[29950 rows x 2 columns]"
      ]
     },
     "execution_count": 5,
     "metadata": {},
     "output_type": "execute_result"
    }
   ],
   "source": [
    "train_set"
   ]
  },
  {
   "cell_type": "code",
   "execution_count": 6,
   "metadata": {},
   "outputs": [
    {
     "data": {
      "text/html": [
       "<div>\n",
       "<style scoped>\n",
       "    .dataframe tbody tr th:only-of-type {\n",
       "        vertical-align: middle;\n",
       "    }\n",
       "\n",
       "    .dataframe tbody tr th {\n",
       "        vertical-align: top;\n",
       "    }\n",
       "\n",
       "    .dataframe thead th {\n",
       "        text-align: right;\n",
       "    }\n",
       "</style>\n",
       "<table border=\"1\" class=\"dataframe\">\n",
       "  <thead>\n",
       "    <tr style=\"text-align: right;\">\n",
       "      <th></th>\n",
       "      <th>comment</th>\n",
       "      <th>rating</th>\n",
       "    </tr>\n",
       "  </thead>\n",
       "  <tbody>\n",
       "    <tr>\n",
       "      <th>2172215</th>\n",
       "      <td>Play with 2-4</td>\n",
       "      <td>7</td>\n",
       "    </tr>\n",
       "    <tr>\n",
       "      <th>14860516</th>\n",
       "      <td>Star Fleet Battles light.</td>\n",
       "      <td>7</td>\n",
       "    </tr>\n",
       "    <tr>\n",
       "      <th>3252395</th>\n",
       "      <td>Fun strategy game. Light enough to play with n...</td>\n",
       "      <td>8</td>\n",
       "    </tr>\n",
       "    <tr>\n",
       "      <th>14120044</th>\n",
       "      <td>OMFG. Most disappointing purchase ever.  This ...</td>\n",
       "      <td>3</td>\n",
       "    </tr>\n",
       "    <tr>\n",
       "      <th>260031</th>\n",
       "      <td>Essentiel</td>\n",
       "      <td>9</td>\n",
       "    </tr>\n",
       "    <tr>\n",
       "      <th>...</th>\n",
       "      <td>...</td>\n",
       "      <td>...</td>\n",
       "    </tr>\n",
       "    <tr>\n",
       "      <th>13960695</th>\n",
       "      <td>Solid solitaire fun!</td>\n",
       "      <td>8</td>\n",
       "    </tr>\n",
       "    <tr>\n",
       "      <th>6792273</th>\n",
       "      <td>I always liked Sub Search as opposed to Battle...</td>\n",
       "      <td>5</td>\n",
       "    </tr>\n",
       "    <tr>\n",
       "      <th>12233492</th>\n",
       "      <td>The new characters are nice additions. Good ex...</td>\n",
       "      <td>9</td>\n",
       "    </tr>\n",
       "    <tr>\n",
       "      <th>10876117</th>\n",
       "      <td>P2</td>\n",
       "      <td>7</td>\n",
       "    </tr>\n",
       "    <tr>\n",
       "      <th>616800</th>\n",
       "      <td>Potentially my favorite board game of all time...</td>\n",
       "      <td>9</td>\n",
       "    </tr>\n",
       "  </tbody>\n",
       "</table>\n",
       "<p>2965073 rows × 2 columns</p>\n",
       "</div>"
      ],
      "text/plain": [
       "                                                    comment  rating\n",
       "2172215                                       Play with 2-4       7\n",
       "14860516                          Star Fleet Battles light.       7\n",
       "3252395   Fun strategy game. Light enough to play with n...       8\n",
       "14120044  OMFG. Most disappointing purchase ever.  This ...       3\n",
       "260031                                            Essentiel       9\n",
       "...                                                     ...     ...\n",
       "13960695                               Solid solitaire fun!       8\n",
       "6792273   I always liked Sub Search as opposed to Battle...       5\n",
       "12233492  The new characters are nice additions. Good ex...       9\n",
       "10876117                                                 P2       7\n",
       "616800    Potentially my favorite board game of all time...       9\n",
       "\n",
       "[2965073 rows x 2 columns]"
      ]
     },
     "execution_count": 6,
     "metadata": {},
     "output_type": "execute_result"
    }
   ],
   "source": [
    "test_set"
   ]
  },
  {
   "cell_type": "code",
   "execution_count": 7,
   "metadata": {},
   "outputs": [],
   "source": [
    "from sklearn.model_selection import StratifiedShuffleSplit\n",
    "sss = StratifiedShuffleSplit(n_splits=11, test_size=0.99, random_state=0)\n",
    "sss.get_n_splits(test_set['comment'], test_set['rating'])\n",
    "for train_index, test_index in sss.split(df['comment'], df['rating']):\n",
    "    test_set = df.iloc[train_index]"
   ]
  },
  {
   "cell_type": "code",
   "execution_count": 8,
   "metadata": {},
   "outputs": [
    {
     "data": {
      "text/html": [
       "<div>\n",
       "<style scoped>\n",
       "    .dataframe tbody tr th:only-of-type {\n",
       "        vertical-align: middle;\n",
       "    }\n",
       "\n",
       "    .dataframe tbody tr th {\n",
       "        vertical-align: top;\n",
       "    }\n",
       "\n",
       "    .dataframe thead th {\n",
       "        text-align: right;\n",
       "    }\n",
       "</style>\n",
       "<table border=\"1\" class=\"dataframe\">\n",
       "  <thead>\n",
       "    <tr style=\"text-align: right;\">\n",
       "      <th></th>\n",
       "      <th>comment</th>\n",
       "      <th>rating</th>\n",
       "    </tr>\n",
       "  </thead>\n",
       "  <tbody>\n",
       "    <tr>\n",
       "      <th>1740396</th>\n",
       "      <td>Archived</td>\n",
       "      <td>6</td>\n",
       "    </tr>\n",
       "    <tr>\n",
       "      <th>6636962</th>\n",
       "      <td>Un must have dans le genre.</td>\n",
       "      <td>9</td>\n",
       "    </tr>\n",
       "    <tr>\n",
       "      <th>1159113</th>\n",
       "      <td>Excellent game, very thematic.  Luck of the dr...</td>\n",
       "      <td>8</td>\n",
       "    </tr>\n",
       "    <tr>\n",
       "      <th>4726306</th>\n",
       "      <td>Great game for new gamers! Check out our doubl...</td>\n",
       "      <td>7</td>\n",
       "    </tr>\n",
       "    <tr>\n",
       "      <th>9668014</th>\n",
       "      <td>2007</td>\n",
       "      <td>8</td>\n",
       "    </tr>\n",
       "    <tr>\n",
       "      <th>...</th>\n",
       "      <td>...</td>\n",
       "      <td>...</td>\n",
       "    </tr>\n",
       "    <tr>\n",
       "      <th>4120186</th>\n",
       "      <td>1–4  Players  60–150  Min</td>\n",
       "      <td>9</td>\n",
       "    </tr>\n",
       "    <tr>\n",
       "      <th>10254983</th>\n",
       "      <td>I'm absolutely in love with this game.  I've p...</td>\n",
       "      <td>9</td>\n",
       "    </tr>\n",
       "    <tr>\n",
       "      <th>4941591</th>\n",
       "      <td>Ben</td>\n",
       "      <td>7</td>\n",
       "    </tr>\n",
       "    <tr>\n",
       "      <th>7558943</th>\n",
       "      <td>Un astratto molto divertente ed \"educativo\". C...</td>\n",
       "      <td>7</td>\n",
       "    </tr>\n",
       "    <tr>\n",
       "      <th>2021592</th>\n",
       "      <td>A taktikai játékok királya, nem kérdés.</td>\n",
       "      <td>6</td>\n",
       "    </tr>\n",
       "  </tbody>\n",
       "</table>\n",
       "<p>29950 rows × 2 columns</p>\n",
       "</div>"
      ],
      "text/plain": [
       "                                                    comment  rating\n",
       "1740396                                            Archived       6\n",
       "6636962                         Un must have dans le genre.       9\n",
       "1159113   Excellent game, very thematic.  Luck of the dr...       8\n",
       "4726306   Great game for new gamers! Check out our doubl...       7\n",
       "9668014                                                2007       8\n",
       "...                                                     ...     ...\n",
       "4120186                           1–4  Players  60–150  Min       9\n",
       "10254983  I'm absolutely in love with this game.  I've p...       9\n",
       "4941591                                                 Ben       7\n",
       "7558943   Un astratto molto divertente ed \"educativo\". C...       7\n",
       "2021592             A taktikai játékok királya, nem kérdés.       6\n",
       "\n",
       "[29950 rows x 2 columns]"
      ]
     },
     "execution_count": 8,
     "metadata": {},
     "output_type": "execute_result"
    }
   ],
   "source": [
    "test_set"
   ]
  },
  {
   "cell_type": "markdown",
   "metadata": {},
   "source": [
    "### I have used Multinomial Naive Bayes and SVM\n",
    "### The parameters of SVM kernels are changed. I had tested it for kenrel = 3 and kernel = 10."
   ]
  },
  {
   "cell_type": "markdown",
   "metadata": {},
   "source": [
    "# NOTE :- I cleared the outputs by mistake before submitting and the training process takes time so there is no output for SVM  but I am attaching the model files of both naive bayes and SVM as a proof."
   ]
  },
  {
   "cell_type": "code",
   "execution_count": 9,
   "metadata": {},
   "outputs": [
    {
     "name": "stderr",
     "output_type": "stream",
     "text": [
      "[nltk_data] Downloading package stopwords to\n",
      "[nltk_data]     C:\\Users\\Rajat\\AppData\\Roaming\\nltk_data...\n",
      "[nltk_data]   Package stopwords is already up-to-date!\n"
     ]
    }
   ],
   "source": [
    "nltk.download('stopwords') \n",
    "\n",
    "corpus = [] \n",
    "\n",
    "for i in range(0, len(train_set)): \n",
    "\ttext = re.sub('[^a-zA-Z]', '', train_set.iloc[i]['comment']) \n",
    "\ttext = text.lower() \n",
    "\ttext = text.split() \n",
    "\tps = PorterStemmer() \n",
    "\ttext = ''.join(text) \n",
    "\tcorpus.append(text) \n",
    "\n",
    "# creating bag of words model \n",
    "cv = CountVectorizer(max_features = 5000) \n",
    "\n",
    "X = cv.fit_transform(corpus).toarray() \n",
    "y = train_set.rating.values \n"
   ]
  },
  {
   "cell_type": "code",
   "execution_count": 10,
   "metadata": {},
   "outputs": [],
   "source": [
    "# splitting the data set into training set and test set \n",
    "from sklearn.model_selection import train_test_split \n",
    "\n",
    "X_train, X_test, y_train, y_test = train_test_split(X, y, test_size = 0.20, random_state = 0) \n"
   ]
  },
  {
   "cell_type": "code",
   "execution_count": 11,
   "metadata": {},
   "outputs": [
    {
     "name": "stdout",
     "output_type": "stream",
     "text": [
      "Multinomial Accuracy Score ->  24.724540901502504\n"
     ]
    }
   ],
   "source": [
    "# fitting naive bayes to the training set \n",
    "from sklearn.metrics import accuracy_score\n",
    "from sklearn.naive_bayes import MultinomialNB \n",
    "from sklearn.metrics import confusion_matrix \n",
    "\n",
    "classifier = MultinomialNB(); \n",
    "classifier.fit(X_train, y_train) \n",
    "\n",
    "# predicting test set results \n",
    "y_pred = classifier.predict(X_test) \n",
    "\n",
    "# making the confusion matrix \n",
    "cm = confusion_matrix(y_test, y_pred)\n",
    "print(\"Multinomial Accuracy Score -> \",accuracy_score(y_pred, y_test)*100)\n"
   ]
  },
  {
   "cell_type": "code",
   "execution_count": null,
   "metadata": {},
   "outputs": [],
   "source": [
    "# from joblib import dump, load\n",
    "# dump(classifier, 'naive_model.joblib') \n"
   ]
  },
  {
   "cell_type": "code",
   "execution_count": null,
   "metadata": {},
   "outputs": [],
   "source": [
    "# dump(cv,'naive_cv.joblib')"
   ]
  },
  {
   "cell_type": "code",
   "execution_count": null,
   "metadata": {},
   "outputs": [],
   "source": [
    "# from sklearn.metrics import classification_report\n",
    "# print(classification_report(y_pred, y_test))"
   ]
  },
  {
   "cell_type": "code",
   "execution_count": null,
   "metadata": {},
   "outputs": [],
   "source": [
    "from sklearn import svm\n",
    "from sklearn.metrics import accuracy_score\n",
    "SVM = svm.SVC(C=1.0, kernel='poly', degree=3, gamma='auto')\n",
    "SVM.fit(X_train,y_train)\n",
    "# predict the labels on validation dataset\n",
    "predictions_SVM = SVM.predict(X_test)\n",
    "# Use accuracy_score function to get the accuracy"
   ]
  },
  {
   "cell_type": "code",
   "execution_count": null,
   "metadata": {},
   "outputs": [],
   "source": [
    "from sklearn import svm\n",
    "from sklearn.metrics import accuracy_score\n",
    "SVM = svm.SVC(C=1.0, kernel='poly', degree=10, gamma='auto')\n",
    "SVM.fit(X_train,y_train)\n",
    "# predict the labels on validation dataset\n",
    "predictions_SVM = SVM.predict(X_test)\n",
    "# Use accuracy_score function to get the accuracy\n"
   ]
  },
  {
   "cell_type": "code",
   "execution_count": null,
   "metadata": {},
   "outputs": [],
   "source": [
    "print(\"SVM Accuracy Score for degree 10 -> \",accuracy_score(predictions_SVM, y_test)*100)"
   ]
  },
  {
   "cell_type": "code",
   "execution_count": null,
   "metadata": {},
   "outputs": [],
   "source": [
    "# import pickle\n",
    "# s = pickle.dumps(classifier)"
   ]
  },
  {
   "cell_type": "code",
   "execution_count": null,
   "metadata": {},
   "outputs": [],
   "source": [
    "# from joblib import dump, load\n",
    "# dump(SVM, 'svm_model.joblib') "
   ]
  },
  {
   "cell_type": "code",
   "execution_count": null,
   "metadata": {},
   "outputs": [],
   "source": [
    "# from joblib import dump, load\n",
    "# cl = load('naive_model.joblib') \n",
    "# cv = load('naive_cv.joblib')"
   ]
  },
  {
   "cell_type": "markdown",
   "metadata": {},
   "source": [
    "### As a proof of SVM I am loading this model and making a prediction of the sample comment which is stored in the variable \"ji\""
   ]
  },
  {
   "cell_type": "code",
   "execution_count": 17,
   "metadata": {},
   "outputs": [],
   "source": [
    "from joblib import dump, load\n",
    "clf = load('svm_model.joblib') \n",
    "l = load('naive_cv.joblib')"
   ]
  },
  {
   "cell_type": "code",
   "execution_count": 18,
   "metadata": {},
   "outputs": [],
   "source": [
    "import re\n",
    "from nltk.stem.porter import PorterStemmer\n",
    "from sklearn.feature_extraction.text import CountVectorizer\n",
    "ji = \"great work. well played\"\n",
    "c = []\n",
    "text = re.sub('[^a-zA-Z]', '', ji) \n",
    "text = text.lower() \n",
    "text = text.split() \n",
    "ps = PorterStemmer() \n",
    "text = ''.join(text) \n",
    "c.append(text) \n",
    "ji = l.transform(c).toarray()"
   ]
  },
  {
   "cell_type": "code",
   "execution_count": 19,
   "metadata": {},
   "outputs": [],
   "source": [
    "p =clf.predict(ji)"
   ]
  },
  {
   "cell_type": "code",
   "execution_count": 20,
   "metadata": {},
   "outputs": [
    {
     "data": {
      "text/plain": [
       "array([8])"
      ]
     },
     "execution_count": 20,
     "metadata": {},
     "output_type": "execute_result"
    }
   ],
   "source": [
    "p"
   ]
  },
  {
   "cell_type": "markdown",
   "metadata": {},
   "source": [
    "### The accuracy of Multinomial naive bayes is better than SVM hence I have selected the naive bayes model. The problems I faced are in data cleaning. In order to increase the accuracy I have used Stemming.\n",
    "### I have even tested for 2 hyperparameters of SVM and kernel = 3 I get an accuracy of around 9% and for kernel = 10 I get an accuracy of around 24 %"
   ]
  },
  {
   "cell_type": "markdown",
   "metadata": {},
   "source": [
    "### References :- \n",
    "### https://www.geeksforgeeks.org/applying-multinomial-naive-bayes-to-nlp-problems/\n",
    "### https://medium.com/@bedigunjit/simple-guide-to-text-classification-nlp-using-svm-and-naive-bayes-with-python-421db3a72d34\n",
    "### https://scikit-learn.org/stable/modules/model_persistence.html"
   ]
  }
 ],
 "metadata": {
  "kernelspec": {
   "display_name": "Python 3",
   "language": "python",
   "name": "python3"
  },
  "language_info": {
   "codemirror_mode": {
    "name": "ipython",
    "version": 3
   },
   "file_extension": ".py",
   "mimetype": "text/x-python",
   "name": "python",
   "nbconvert_exporter": "python",
   "pygments_lexer": "ipython3",
   "version": "3.8.5"
  }
 },
 "nbformat": 4,
 "nbformat_minor": 4
}
